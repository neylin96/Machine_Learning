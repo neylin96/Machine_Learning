{
 "cells": [
  {
   "cell_type": "markdown",
   "metadata": {
    "id": "aYPda7c4ZM7n"
   },
   "source": [
    "# Bear Classifier"
   ]
  },
  {
   "cell_type": "code",
   "execution_count": 3,
   "metadata": {
    "colab": {
     "base_uri": "https://localhost:8080/"
    },
    "executionInfo": {
     "elapsed": 39578,
     "status": "ok",
     "timestamp": 1650454090678,
     "user": {
      "displayName": "Naomi Lin",
      "userId": "13963661787030621551"
     },
     "user_tz": -480
    },
    "id": "8bq9OBrTgGMn",
    "outputId": "978fae2e-8dcf-4729-99b9-a4b89c35ed9d"
   },
   "outputs": [],
   "source": [
    "!pip install -Uqq fastbook\n",
    "import fastbook\n",
    "fastbook.setup_book()\n",
    "from fastbook import *\n",
    "from fastai.vision.widgets import *\n",
    "\n",
    "import os"
   ]
  },
  {
   "cell_type": "code",
   "execution_count": 8,
   "metadata": {},
   "outputs": [],
   "source": [
    "import pathlib\n",
    "temp = pathlib.PosixPath\n",
    "pathlib.PosixPath = pathlib.WindowsPath"
   ]
  },
  {
   "cell_type": "code",
   "execution_count": 9,
   "metadata": {
    "colab": {
     "base_uri": "https://localhost:8080/"
    },
    "executionInfo": {
     "elapsed": 7963,
     "status": "ok",
     "timestamp": 1650454240591,
     "user": {
      "displayName": "Naomi Lin",
      "userId": "13963661787030621551"
     },
     "user_tz": -480
    },
    "id": "UHQS-rtWZM7s",
    "outputId": "dd32d61b-e331-4485-d928-6c23d7a3e378"
   },
   "outputs": [],
   "source": [
    "learn_inf = load_learner('bear_classifier.pkl')"
   ]
  },
  {
   "cell_type": "code",
   "execution_count": 11,
   "metadata": {
    "executionInfo": {
     "elapsed": 518,
     "status": "ok",
     "timestamp": 1650454284530,
     "user": {
      "displayName": "Naomi Lin",
      "userId": "13963661787030621551"
     },
     "user_tz": -480
    },
    "id": "u0-2VzreZM7t"
   },
   "outputs": [],
   "source": [
    "# Define the variables\n",
    "button_upload = widgets.FileUpload()\n",
    "display_pic = widgets.Output()\n",
    "label_prediction = widgets.Label()"
   ]
  },
  {
   "cell_type": "code",
   "execution_count": 12,
   "metadata": {
    "executionInfo": {
     "elapsed": 5,
     "status": "ok",
     "timestamp": 1650454288347,
     "user": {
      "displayName": "Naomi Lin",
      "userId": "13963661787030621551"
     },
     "user_tz": -480
    },
    "id": "4jLgI7oMZM7t"
   },
   "outputs": [],
   "source": [
    "def on_click_classify(change):\n",
    "    image = PILImage.create(button_upload.data[-1])\n",
    "    display_pic.clear_output()\n",
    "    with display_pic: \n",
    "      display(image.to_thumb(128,128))\n",
    "    prediction,prediction_idex,probability = learn_inf.predict(image)\n",
    "    label_prediction.value = f'Prediction: {prediction}; Probability: {probability[prediction_idex]:.04f}'\n",
    "\n",
    "button_run = widgets.Button(description='Classify')\n",
    "button_run.on_click(on_click_classify)"
   ]
  },
  {
   "cell_type": "code",
   "execution_count": 13,
   "metadata": {
    "colab": {
     "base_uri": "https://localhost:8080/",
     "height": 230,
     "referenced_widgets": [
      "1e6fff1765114ad08682a5ced7789da4",
      "4aea49dd9a6142c088eeae1bcee71936",
      "ffc6c7966916487a82141319664df6d9",
      "37111c2a1d2b4edf9dcd9f0563f3d68a",
      "b63fb5c509254f4bb637d7b1ebfbdc98",
      "f38298a512914f80876b46fe29728f76",
      "eab01c12cb924fb7ab55ddb21e30dfee",
      "637ed2a3e10e4c68ae77f554fac1eeed",
      "99528204e5e24a568c4a70f05cec775e",
      "70625fd5cfd841a78572128e96b83452",
      "834503280f6f4acb8c885b97191ed200",
      "85d639da450147fda1b4ffa6d06cdeb5",
      "cf483808f9bc440eb34ece4d9f86f394",
      "29e6673119e14256ab4a4ba41bab8646",
      "d2b0a964498044bebf8d559d00613f7b",
      "7fa761f934574e57b05b13a9754d1ca3"
     ]
    },
    "executionInfo": {
     "elapsed": 426,
     "status": "ok",
     "timestamp": 1650454292257,
     "user": {
      "displayName": "Naomi Lin",
      "userId": "13963661787030621551"
     },
     "user_tz": -480
    },
    "id": "0wMFUWvsZM7u",
    "outputId": "6459a871-92ea-4ca3-9286-16b4b7d89879"
   },
   "outputs": [
    {
     "data": {
      "application/vnd.jupyter.widget-view+json": {
       "model_id": "8b6e0a89abe24e568c5c4ea778e20fe0",
       "version_major": 2,
       "version_minor": 0
      },
      "text/plain": [
       "VBox(children=(Label(value='Select your bear!'), FileUpload(value={}, description='Upload'), Button(descriptio…"
      ]
     },
     "metadata": {},
     "output_type": "display_data"
    },
    {
     "data": {
      "text/html": [
       "\n",
       "<style>\n",
       "    /* Turns off some styling */\n",
       "    progress {\n",
       "        /* gets rid of default border in Firefox and Opera. */\n",
       "        border: none;\n",
       "        /* Needs to be in here for Safari polyfill so background images work as expected. */\n",
       "        background-size: auto;\n",
       "    }\n",
       "    .progress-bar-interrupted, .progress-bar-interrupted::-webkit-progress-bar {\n",
       "        background: #F44336;\n",
       "    }\n",
       "</style>\n"
      ],
      "text/plain": [
       "<IPython.core.display.HTML object>"
      ]
     },
     "metadata": {},
     "output_type": "display_data"
    },
    {
     "data": {
      "text/html": [],
      "text/plain": [
       "<IPython.core.display.HTML object>"
      ]
     },
     "metadata": {},
     "output_type": "display_data"
    }
   ],
   "source": [
    "VBox([widgets.Label('Select your bear!'), \n",
    "      button_upload, button_run, display_pic, label_prediction])"
   ]
  }
 ],
 "metadata": {
  "accelerator": "GPU",
  "colab": {
   "collapsed_sections": [
    "6_NzT2cqZM7t",
    "OMKAg8oVZM7u"
   ],
   "name": "bear_classifier.ipynb",
   "provenance": [
    {
     "file_id": "https://github.com/fastai/fastbook/blob/master/clean/02_production.ipynb",
     "timestamp": 1647562774803
    }
   ]
  },
  "jupytext": {
   "split_at_heading": true
  },
  "kernelspec": {
   "display_name": "Python 3 (ipykernel)",
   "language": "python",
   "name": "python3"
  },
  "language_info": {
   "codemirror_mode": {
    "name": "ipython",
    "version": 3
   },
   "file_extension": ".py",
   "mimetype": "text/x-python",
   "name": "python",
   "nbconvert_exporter": "python",
   "pygments_lexer": "ipython3",
   "version": "3.8.12"
  },
  "widgets": {
   "application/vnd.jupyter.widget-state+json": {
    "1e6fff1765114ad08682a5ced7789da4": {
     "model_module": "@jupyter-widgets/controls",
     "model_module_version": "1.5.0",
     "model_name": "VBoxModel",
     "state": {
      "_dom_classes": [],
      "_model_module": "@jupyter-widgets/controls",
      "_model_module_version": "1.5.0",
      "_model_name": "VBoxModel",
      "_view_count": null,
      "_view_module": "@jupyter-widgets/controls",
      "_view_module_version": "1.5.0",
      "_view_name": "VBoxView",
      "box_style": "",
      "children": [
       "IPY_MODEL_4aea49dd9a6142c088eeae1bcee71936",
       "IPY_MODEL_ffc6c7966916487a82141319664df6d9",
       "IPY_MODEL_37111c2a1d2b4edf9dcd9f0563f3d68a",
       "IPY_MODEL_b63fb5c509254f4bb637d7b1ebfbdc98",
       "IPY_MODEL_f38298a512914f80876b46fe29728f76"
      ],
      "layout": "IPY_MODEL_eab01c12cb924fb7ab55ddb21e30dfee"
     }
    },
    "29e6673119e14256ab4a4ba41bab8646": {
     "model_module": "@jupyter-widgets/base",
     "model_module_version": "1.2.0",
     "model_name": "LayoutModel",
     "state": {
      "_model_module": "@jupyter-widgets/base",
      "_model_module_version": "1.2.0",
      "_model_name": "LayoutModel",
      "_view_count": null,
      "_view_module": "@jupyter-widgets/base",
      "_view_module_version": "1.2.0",
      "_view_name": "LayoutView",
      "align_content": null,
      "align_items": null,
      "align_self": null,
      "border": null,
      "bottom": null,
      "display": null,
      "flex": null,
      "flex_flow": null,
      "grid_area": null,
      "grid_auto_columns": null,
      "grid_auto_flow": null,
      "grid_auto_rows": null,
      "grid_column": null,
      "grid_gap": null,
      "grid_row": null,
      "grid_template_areas": null,
      "grid_template_columns": null,
      "grid_template_rows": null,
      "height": null,
      "justify_content": null,
      "justify_items": null,
      "left": null,
      "margin": null,
      "max_height": null,
      "max_width": null,
      "min_height": null,
      "min_width": null,
      "object_fit": null,
      "object_position": null,
      "order": null,
      "overflow": null,
      "overflow_x": null,
      "overflow_y": null,
      "padding": null,
      "right": null,
      "top": null,
      "visibility": null,
      "width": null
     }
    },
    "37111c2a1d2b4edf9dcd9f0563f3d68a": {
     "model_module": "@jupyter-widgets/controls",
     "model_module_version": "1.5.0",
     "model_name": "ButtonModel",
     "state": {
      "_dom_classes": [],
      "_model_module": "@jupyter-widgets/controls",
      "_model_module_version": "1.5.0",
      "_model_name": "ButtonModel",
      "_view_count": null,
      "_view_module": "@jupyter-widgets/controls",
      "_view_module_version": "1.5.0",
      "_view_name": "ButtonView",
      "button_style": "",
      "description": "Classify",
      "disabled": false,
      "icon": "",
      "layout": "IPY_MODEL_85d639da450147fda1b4ffa6d06cdeb5",
      "style": "IPY_MODEL_cf483808f9bc440eb34ece4d9f86f394",
      "tooltip": ""
     }
    },
    "4aea49dd9a6142c088eeae1bcee71936": {
     "model_module": "@jupyter-widgets/controls",
     "model_module_version": "1.5.0",
     "model_name": "LabelModel",
     "state": {
      "_dom_classes": [],
      "_model_module": "@jupyter-widgets/controls",
      "_model_module_version": "1.5.0",
      "_model_name": "LabelModel",
      "_view_count": null,
      "_view_module": "@jupyter-widgets/controls",
      "_view_module_version": "1.5.0",
      "_view_name": "LabelView",
      "description": "",
      "description_tooltip": null,
      "layout": "IPY_MODEL_637ed2a3e10e4c68ae77f554fac1eeed",
      "placeholder": "​",
      "style": "IPY_MODEL_99528204e5e24a568c4a70f05cec775e",
      "value": "Select your bear!"
     }
    },
    "637ed2a3e10e4c68ae77f554fac1eeed": {
     "model_module": "@jupyter-widgets/base",
     "model_module_version": "1.2.0",
     "model_name": "LayoutModel",
     "state": {
      "_model_module": "@jupyter-widgets/base",
      "_model_module_version": "1.2.0",
      "_model_name": "LayoutModel",
      "_view_count": null,
      "_view_module": "@jupyter-widgets/base",
      "_view_module_version": "1.2.0",
      "_view_name": "LayoutView",
      "align_content": null,
      "align_items": null,
      "align_self": null,
      "border": null,
      "bottom": null,
      "display": null,
      "flex": null,
      "flex_flow": null,
      "grid_area": null,
      "grid_auto_columns": null,
      "grid_auto_flow": null,
      "grid_auto_rows": null,
      "grid_column": null,
      "grid_gap": null,
      "grid_row": null,
      "grid_template_areas": null,
      "grid_template_columns": null,
      "grid_template_rows": null,
      "height": null,
      "justify_content": null,
      "justify_items": null,
      "left": null,
      "margin": null,
      "max_height": null,
      "max_width": null,
      "min_height": null,
      "min_width": null,
      "object_fit": null,
      "object_position": null,
      "order": null,
      "overflow": null,
      "overflow_x": null,
      "overflow_y": null,
      "padding": null,
      "right": null,
      "top": null,
      "visibility": null,
      "width": null
     }
    },
    "70625fd5cfd841a78572128e96b83452": {
     "model_module": "@jupyter-widgets/base",
     "model_module_version": "1.2.0",
     "model_name": "LayoutModel",
     "state": {
      "_model_module": "@jupyter-widgets/base",
      "_model_module_version": "1.2.0",
      "_model_name": "LayoutModel",
      "_view_count": null,
      "_view_module": "@jupyter-widgets/base",
      "_view_module_version": "1.2.0",
      "_view_name": "LayoutView",
      "align_content": null,
      "align_items": null,
      "align_self": null,
      "border": null,
      "bottom": null,
      "display": null,
      "flex": null,
      "flex_flow": null,
      "grid_area": null,
      "grid_auto_columns": null,
      "grid_auto_flow": null,
      "grid_auto_rows": null,
      "grid_column": null,
      "grid_gap": null,
      "grid_row": null,
      "grid_template_areas": null,
      "grid_template_columns": null,
      "grid_template_rows": null,
      "height": null,
      "justify_content": null,
      "justify_items": null,
      "left": null,
      "margin": null,
      "max_height": null,
      "max_width": null,
      "min_height": null,
      "min_width": null,
      "object_fit": null,
      "object_position": null,
      "order": null,
      "overflow": null,
      "overflow_x": null,
      "overflow_y": null,
      "padding": null,
      "right": null,
      "top": null,
      "visibility": null,
      "width": null
     }
    },
    "7fa761f934574e57b05b13a9754d1ca3": {
     "model_module": "@jupyter-widgets/base",
     "model_module_version": "1.2.0",
     "model_name": "LayoutModel",
     "state": {
      "_model_module": "@jupyter-widgets/base",
      "_model_module_version": "1.2.0",
      "_model_name": "LayoutModel",
      "_view_count": null,
      "_view_module": "@jupyter-widgets/base",
      "_view_module_version": "1.2.0",
      "_view_name": "LayoutView",
      "align_content": null,
      "align_items": null,
      "align_self": null,
      "border": null,
      "bottom": null,
      "display": null,
      "flex": null,
      "flex_flow": null,
      "grid_area": null,
      "grid_auto_columns": null,
      "grid_auto_flow": null,
      "grid_auto_rows": null,
      "grid_column": null,
      "grid_gap": null,
      "grid_row": null,
      "grid_template_areas": null,
      "grid_template_columns": null,
      "grid_template_rows": null,
      "height": null,
      "justify_content": null,
      "justify_items": null,
      "left": null,
      "margin": null,
      "max_height": null,
      "max_width": null,
      "min_height": null,
      "min_width": null,
      "object_fit": null,
      "object_position": null,
      "order": null,
      "overflow": null,
      "overflow_x": null,
      "overflow_y": null,
      "padding": null,
      "right": null,
      "top": null,
      "visibility": null,
      "width": null
     }
    },
    "834503280f6f4acb8c885b97191ed200": {
     "model_module": "@jupyter-widgets/controls",
     "model_module_version": "1.5.0",
     "model_name": "ButtonStyleModel",
     "state": {
      "_model_module": "@jupyter-widgets/controls",
      "_model_module_version": "1.5.0",
      "_model_name": "ButtonStyleModel",
      "_view_count": null,
      "_view_module": "@jupyter-widgets/base",
      "_view_module_version": "1.2.0",
      "_view_name": "StyleView",
      "button_color": null,
      "font_weight": ""
     }
    },
    "85d639da450147fda1b4ffa6d06cdeb5": {
     "model_module": "@jupyter-widgets/base",
     "model_module_version": "1.2.0",
     "model_name": "LayoutModel",
     "state": {
      "_model_module": "@jupyter-widgets/base",
      "_model_module_version": "1.2.0",
      "_model_name": "LayoutModel",
      "_view_count": null,
      "_view_module": "@jupyter-widgets/base",
      "_view_module_version": "1.2.0",
      "_view_name": "LayoutView",
      "align_content": null,
      "align_items": null,
      "align_self": null,
      "border": null,
      "bottom": null,
      "display": null,
      "flex": null,
      "flex_flow": null,
      "grid_area": null,
      "grid_auto_columns": null,
      "grid_auto_flow": null,
      "grid_auto_rows": null,
      "grid_column": null,
      "grid_gap": null,
      "grid_row": null,
      "grid_template_areas": null,
      "grid_template_columns": null,
      "grid_template_rows": null,
      "height": null,
      "justify_content": null,
      "justify_items": null,
      "left": null,
      "margin": null,
      "max_height": null,
      "max_width": null,
      "min_height": null,
      "min_width": null,
      "object_fit": null,
      "object_position": null,
      "order": null,
      "overflow": null,
      "overflow_x": null,
      "overflow_y": null,
      "padding": null,
      "right": null,
      "top": null,
      "visibility": null,
      "width": null
     }
    },
    "99528204e5e24a568c4a70f05cec775e": {
     "model_module": "@jupyter-widgets/controls",
     "model_module_version": "1.5.0",
     "model_name": "DescriptionStyleModel",
     "state": {
      "_model_module": "@jupyter-widgets/controls",
      "_model_module_version": "1.5.0",
      "_model_name": "DescriptionStyleModel",
      "_view_count": null,
      "_view_module": "@jupyter-widgets/base",
      "_view_module_version": "1.2.0",
      "_view_name": "StyleView",
      "description_width": ""
     }
    },
    "b63fb5c509254f4bb637d7b1ebfbdc98": {
     "model_module": "@jupyter-widgets/output",
     "model_module_version": "1.0.0",
     "model_name": "OutputModel",
     "state": {
      "_dom_classes": [],
      "_model_module": "@jupyter-widgets/output",
      "_model_module_version": "1.0.0",
      "_model_name": "OutputModel",
      "_view_count": null,
      "_view_module": "@jupyter-widgets/output",
      "_view_module_version": "1.0.0",
      "_view_name": "OutputView",
      "layout": "IPY_MODEL_7fa761f934574e57b05b13a9754d1ca3",
      "msg_id": "",
      "outputs": [
       {
        "data": {
         "image/png": "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\n",
         "text/plain": "<PIL.Image.Image image mode=RGB size=128x85 at 0x7F745C5CDF50>"
        },
        "metadata": {},
        "output_type": "display_data"
       }
      ]
     }
    },
    "cf483808f9bc440eb34ece4d9f86f394": {
     "model_module": "@jupyter-widgets/controls",
     "model_module_version": "1.5.0",
     "model_name": "ButtonStyleModel",
     "state": {
      "_model_module": "@jupyter-widgets/controls",
      "_model_module_version": "1.5.0",
      "_model_name": "ButtonStyleModel",
      "_view_count": null,
      "_view_module": "@jupyter-widgets/base",
      "_view_module_version": "1.2.0",
      "_view_name": "StyleView",
      "button_color": null,
      "font_weight": ""
     }
    },
    "d2b0a964498044bebf8d559d00613f7b": {
     "model_module": "@jupyter-widgets/controls",
     "model_module_version": "1.5.0",
     "model_name": "DescriptionStyleModel",
     "state": {
      "_model_module": "@jupyter-widgets/controls",
      "_model_module_version": "1.5.0",
      "_model_name": "DescriptionStyleModel",
      "_view_count": null,
      "_view_module": "@jupyter-widgets/base",
      "_view_module_version": "1.2.0",
      "_view_name": "StyleView",
      "description_width": ""
     }
    },
    "eab01c12cb924fb7ab55ddb21e30dfee": {
     "model_module": "@jupyter-widgets/base",
     "model_module_version": "1.2.0",
     "model_name": "LayoutModel",
     "state": {
      "_model_module": "@jupyter-widgets/base",
      "_model_module_version": "1.2.0",
      "_model_name": "LayoutModel",
      "_view_count": null,
      "_view_module": "@jupyter-widgets/base",
      "_view_module_version": "1.2.0",
      "_view_name": "LayoutView",
      "align_content": null,
      "align_items": null,
      "align_self": null,
      "border": null,
      "bottom": null,
      "display": null,
      "flex": null,
      "flex_flow": null,
      "grid_area": null,
      "grid_auto_columns": null,
      "grid_auto_flow": null,
      "grid_auto_rows": null,
      "grid_column": null,
      "grid_gap": null,
      "grid_row": null,
      "grid_template_areas": null,
      "grid_template_columns": null,
      "grid_template_rows": null,
      "height": null,
      "justify_content": null,
      "justify_items": null,
      "left": null,
      "margin": null,
      "max_height": null,
      "max_width": null,
      "min_height": null,
      "min_width": null,
      "object_fit": null,
      "object_position": null,
      "order": null,
      "overflow": null,
      "overflow_x": null,
      "overflow_y": null,
      "padding": null,
      "right": null,
      "top": null,
      "visibility": null,
      "width": null
     }
    },
    "f38298a512914f80876b46fe29728f76": {
     "model_module": "@jupyter-widgets/controls",
     "model_module_version": "1.5.0",
     "model_name": "LabelModel",
     "state": {
      "_dom_classes": [],
      "_model_module": "@jupyter-widgets/controls",
      "_model_module_version": "1.5.0",
      "_model_name": "LabelModel",
      "_view_count": null,
      "_view_module": "@jupyter-widgets/controls",
      "_view_module_version": "1.5.0",
      "_view_name": "LabelView",
      "description": "",
      "description_tooltip": null,
      "layout": "IPY_MODEL_29e6673119e14256ab4a4ba41bab8646",
      "placeholder": "​",
      "style": "IPY_MODEL_d2b0a964498044bebf8d559d00613f7b",
      "value": "Prediction: grizzly; Probability: 1.0000"
     }
    },
    "ffc6c7966916487a82141319664df6d9": {
     "model_module": "@jupyter-widgets/controls",
     "model_module_version": "1.5.0",
     "model_name": "FileUploadModel",
     "state": {
      "_counter": 1,
      "_dom_classes": [],
      "_model_module": "@jupyter-widgets/controls",
      "_model_module_version": "1.5.0",
      "_model_name": "FileUploadModel",
      "_view_count": null,
      "_view_module": "@jupyter-widgets/controls",
      "_view_module_version": "1.5.0",
      "_view_name": "FileUploadView",
      "accept": "",
      "button_style": "",
      "data": [
       null
      ],
      "description": "Upload",
      "description_tooltip": null,
      "disabled": false,
      "error": "",
      "icon": "upload",
      "layout": "IPY_MODEL_70625fd5cfd841a78572128e96b83452",
      "metadata": [
       {
        "lastModified": 1649403424113,
        "name": "grizzly.jpg",
        "size": 97375,
        "type": "image/jpeg"
       }
      ],
      "multiple": false,
      "style": "IPY_MODEL_834503280f6f4acb8c885b97191ed200"
     }
    }
   }
  }
 },
 "nbformat": 4,
 "nbformat_minor": 1
}
